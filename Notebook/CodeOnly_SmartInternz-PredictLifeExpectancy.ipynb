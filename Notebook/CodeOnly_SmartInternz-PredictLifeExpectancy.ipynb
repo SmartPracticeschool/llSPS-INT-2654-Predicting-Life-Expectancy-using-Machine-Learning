{
 "cells": [
  {
   "cell_type": "markdown",
   "metadata": {
    "collapsed": true
   },
   "source": [
    "# Analysing the dataset"
   ]
  },
  {
   "cell_type": "markdown",
   "metadata": {},
   "source": [
    "**Importing required libraries**"
   ]
  },
  {
   "cell_type": "code",
   "execution_count": null,
   "metadata": {},
   "outputs": [],
   "source": [
    "import pandas as pd\n",
    "import numpy as np\n",
    "import matplotlib.pyplot as plt\n",
    "import seaborn as sns\n",
    "from sklearn.preprocessing import OneHotEncoder\n",
    "from sklearn.model_selection import train_test_split\n",
    "from sklearn.neural_network import MLPClassifier\n",
    "from sklearn.neighbors import KNeighborsClassifier\n",
    "from sklearn.svm import SVC\n",
    "from sklearn.preprocessing import StandardScaler\n",
    "from sklearn.compose import ColumnTransformer, make_column_transformer\n",
    "from sklearn.pipeline import make_pipeline\n",
    "from sklearn.impute import SimpleImputer\n",
    "from sklearn.gaussian_process import GaussianProcessClassifier\n",
    "from sklearn.gaussian_process.kernels import RBF\n",
    "from sklearn.tree import DecisionTreeClassifier\n",
    "from sklearn.ensemble import RandomForestClassifier, AdaBoostClassifier\n",
    "from sklearn.naive_bayes import GaussianNB\n",
    "from sklearn.preprocessing import LabelEncoder\n",
    "from sklearn.metrics import accuracy_score\n",
    "from collections import OrderedDict\n",
    "from sklearn.svm import SVR\n",
    "from sklearn.ensemble import RandomForestRegressor\n",
    "from sklearn.model_selection import ShuffleSplit\n",
    "from sklearn.model_selection import cross_val_score\n",
    "from sklearn.linear_model import LinearRegression\n",
    "from sklearn.tree import DecisionTreeRegressor\n",
    "from sklearn.metrics import r2_score,mean_squared_error"
   ]
  },
  {
   "cell_type": "markdown",
   "metadata": {},
   "source": [
    "**Reading the dataset in IBM Watson Studio**"
   ]
  },
  {
   "cell_type": "code",
   "execution_count": null,
   "metadata": {},
   "outputs": [],
   "source": [
    "\n",
    "import types\n",
    "import pandas as pd\n",
    "from botocore.client import Config\n",
    "import ibm_boto3\n",
    "\n",
    "def __iter__(self): return 0\n",
    "\n",
    "# @hidden_cell\n",
    "# The following code accesses a file in your IBM Cloud Object Storage. It includes your credentials.\n",
    "# You might want to remove those credentials before you share the notebook.\n",
    "client_d6a042f58dc44bfcac01d1a01afd0d38 = ibm_boto3.client(service_name='s3',\n",
    "    ibm_api_key_id='3okOdlerylavk0PK0-Xd-r5HYVMO2iegQ87elISoTdbn',\n",
    "    ibm_auth_endpoint=\"https://iam.cloud.ibm.com/oidc/token\",\n",
    "    config=Config(signature_version='oauth'),\n",
    "    endpoint_url='https://s3.eu-geo.objectstorage.service.networklayer.com')\n",
    "\n",
    "body = client_d6a042f58dc44bfcac01d1a01afd0d38.get_object(Bucket='lifeexpectancy-donotdelete-pr-6bb2hoexroj1xl',Key='Life_Expectancy_Data.csv')['Body']\n",
    "# add missing __iter__ method, so pandas accepts body as file-like object\n",
    "if not hasattr(body, \"__iter__\"): body.__iter__ = types.MethodType( __iter__, body )\n",
    "\n",
    "data = pd.read_csv(body)\n",
    "data.head()\n"
   ]
  },
  {
   "cell_type": "code",
   "execution_count": null,
   "metadata": {},
   "outputs": [],
   "source": [
    "data.head()"
   ]
  },
  {
   "cell_type": "code",
   "execution_count": null,
   "metadata": {},
   "outputs": [],
   "source": [
    "data.shape"
   ]
  },
  {
   "cell_type": "code",
   "execution_count": null,
   "metadata": {},
   "outputs": [],
   "source": [
    "data.describe()"
   ]
  },
  {
   "cell_type": "code",
   "execution_count": null,
   "metadata": {},
   "outputs": [],
   "source": [
    "data.info()"
   ]
  },
  {
   "cell_type": "code",
   "execution_count": null,
   "metadata": {},
   "outputs": [],
   "source": [
    "data.size"
   ]
  },
  {
   "cell_type": "code",
   "execution_count": null,
   "metadata": {},
   "outputs": [],
   "source": [
    "data.columns"
   ]
  },
  {
   "cell_type": "code",
   "execution_count": null,
   "metadata": {},
   "outputs": [],
   "source": [
    "data.isnull().sum()"
   ]
  },
  {
   "cell_type": "markdown",
   "metadata": {},
   "source": [
    "__Handling Missing Value__"
   ]
  },
  {
   "cell_type": "code",
   "execution_count": null,
   "metadata": {},
   "outputs": [],
   "source": [
    "country_list = data.Country.unique()\n",
    "len(country_list)"
   ]
  },
  {
   "cell_type": "code",
   "execution_count": null,
   "metadata": {},
   "outputs": [],
   "source": [
    "country_list = data.Country.unique()\n",
    "fill_list = ['Country', 'Year', 'Status', 'Life expectancy ', 'Adult Mortality',\n",
    "       'infant deaths', 'Alcohol', 'percentage expenditure', 'Hepatitis B',\n",
    "       'Measles ', ' BMI ', 'under-five deaths ', 'Polio', 'Total expenditure',\n",
    "       'Diphtheria ', ' HIV/AIDS', 'GDP', 'Population',\n",
    "       ' thinness  1-19 years', ' thinness 5-9 years',\n",
    "       'Income composition of resources', 'Schooling']"
   ]
  },
  {
   "cell_type": "markdown",
   "metadata": {},
   "source": [
    "**Filling missing value according to country column using interpolate()**"
   ]
  },
  {
   "cell_type": "code",
   "execution_count": null,
   "metadata": {},
   "outputs": [],
   "source": [
    "for country in country_list:\n",
    "    data.loc[data['Country'] == country,fill_list] = data.loc[data['Country'] == country,fill_list].interpolate()\n",
    "data.dropna(inplace=True)"
   ]
  },
  {
   "cell_type": "code",
   "execution_count": null,
   "metadata": {},
   "outputs": [],
   "source": [
    "data.shape"
   ]
  },
  {
   "cell_type": "code",
   "execution_count": null,
   "metadata": {},
   "outputs": [],
   "source": [
    "data.isna().sum()"
   ]
  },
  {
   "cell_type": "markdown",
   "metadata": {},
   "source": [
    "**Corelation matrix**"
   ]
  },
  {
   "cell_type": "code",
   "execution_count": null,
   "metadata": {},
   "outputs": [],
   "source": [
    "corrMatrix = data.corr()\n",
    "corrMatrix.style.background_gradient(cmap='plasma', low=.5, high=0).highlight_null('red')"
   ]
  },
  {
   "cell_type": "markdown",
   "metadata": {},
   "source": [
    "**Renaming the columns as it contains trailing spaces**"
   ]
  },
  {
   "cell_type": "code",
   "execution_count": null,
   "metadata": {},
   "outputs": [],
   "source": [
    "data.rename(columns={\" BMI \":\"BMI\",'Life expectancy ':'Life expectancy',\n",
    "                  \"under-five deaths \":\"under-five deaths\",\"Measles \":\"Measles\",\"Diphtheria \":\"Diphtheria\",\n",
    "                  ' HIV/AIDS':\"HIV/AIDS\",\n",
    "                  \" thinness  1-19 years\":\"thinness 10-19 years\",\" thinness 5-9 years\":\"thinness 5-9 years\"},inplace=True)"
   ]
  },
  {
   "cell_type": "markdown",
   "metadata": {},
   "source": [
    "**Removing outliers**"
   ]
  },
  {
   "cell_type": "markdown",
   "metadata": {},
   "source": [
    "Taking numeric features , (country,year, status columns are excluded)"
   ]
  },
  {
   "cell_type": "code",
   "execution_count": null,
   "metadata": {},
   "outputs": [],
   "source": [
    "col_dict = {'Life expectancy':1 , 'Adult Mortality':2 ,\n",
    "        'Alcohol':3 , 'percentage expenditure': 4, 'Hepatitis B': 5,\n",
    "       'Measles' : 6, 'BMI': 7, 'under-five deaths' : 8, 'Polio' : 9, 'Total expenditure' :10,\n",
    "       'Diphtheria':11, 'HIV/AIDS':12, 'GDP':13, 'Population' :14,\n",
    "       'thinness 10-19 years' :15, 'thinness 5-9 years' :16,\n",
    "       'Income composition of resources' : 17, 'Schooling' :18, 'infant deaths':19}"
   ]
  },
  {
   "cell_type": "markdown",
   "metadata": {},
   "source": [
    "Showing outliers using box plot"
   ]
  },
  {
   "cell_type": "code",
   "execution_count": null,
   "metadata": {},
   "outputs": [],
   "source": [
    "import matplotlib.pyplot as plt\n",
    "plt.figure(figsize=(20,30))\n",
    "\n",
    "for variable,i in col_dict.items():\n",
    "                     plt.subplot(5,4,i)\n",
    "                     plt.boxplot(data[variable],whis=1.5)\n",
    "                     plt.title(variable)\n",
    "\n",
    "plt.show()"
   ]
  },
  {
   "cell_type": "markdown",
   "metadata": {},
   "source": [
    "BMI has no outliers"
   ]
  },
  {
   "cell_type": "code",
   "execution_count": null,
   "metadata": {},
   "outputs": [],
   "source": [
    "import numpy as np\n",
    "\n",
    "for variable in col_dict.keys():\n",
    "    q75, q25 = np.percentile(data[variable], [75 ,25])\n",
    "    iqr = q75 - q25\n",
    "    min_val = q25 - (iqr*1.5)\n",
    "    max_val = q75 + (iqr*1.5)\n",
    "    print(\"Number of outliers and percentage of it in {} : {} and {}\".format(variable,\n",
    "                                                                             len((np.where((data[variable] > max_val) | (data[variable] < min_val))[0])),\n",
    "                                                                             len((np.where((data[variable] > max_val) | (data[variable] < min_val))[0]))*100/1987))"
   ]
  },
  {
   "cell_type": "code",
   "execution_count": null,
   "metadata": {},
   "outputs": [],
   "source": [
    "from scipy.stats.mstats import winsorize\n",
    "winsorized_Life_Expectancy = winsorize(data['Life expectancy'],(0.01,0))\n",
    "winsorized_Adult_Mortality = winsorize(data['Adult Mortality'],(0,0.03))\n",
    "winsorized_Infant_Deaths = winsorize(data['infant deaths'],(0,0.10))\n",
    "winsorized_Alcohol = winsorize(data['Alcohol'],(0,0.01))\n",
    "winsorized_Percentage_Exp = winsorize(data['percentage expenditure'],(0,0.12))\n",
    "winsorized_HepatitisB = winsorize(data['Hepatitis B'],(0.11,0))\n",
    "winsorized_Measles = winsorize(data['Measles'],(0,0.19))\n",
    "winsorized_Under_Five_Deaths = winsorize(data['under-five deaths'],(0,0.12))\n",
    "winsorized_Polio = winsorize(data['Polio'],(0.09,0))\n",
    "winsorized_Tot_Exp = winsorize(data['Total expenditure'],(0,0.01))\n",
    "winsorized_Diphtheria = winsorize(data['Diphtheria'],(0.10,0))\n",
    "winsorized_HIV = winsorize(data['HIV/AIDS'],(0,0.16))\n",
    "winsorized_GDP = winsorize(data['GDP'],(0,0.13))\n",
    "winsorized_Population = winsorize(data['Population'],(0,0.14))\n",
    "winsorized_thinness_10_19_years = winsorize(data['thinness 10-19 years'],(0,0.04))\n",
    "winsorized_thinness_5_9_years = winsorize(data['thinness 5-9 years'],(0,0.04))\n",
    "winsorized_Income_Comp_Of_Resources = winsorize(data['Income composition of resources'],(0.05,0))\n",
    "winsorized_Schooling = winsorize(data['Schooling'],(0.02,0.01))"
   ]
  },
  {
   "cell_type": "code",
   "execution_count": null,
   "metadata": {},
   "outputs": [],
   "source": [
    "winsorized_list = [winsorized_Life_Expectancy,winsorized_Adult_Mortality,winsorized_Alcohol,winsorized_Measles,winsorized_Infant_Deaths,\n",
    "            winsorized_Percentage_Exp,winsorized_HepatitisB,winsorized_Under_Five_Deaths,winsorized_Polio,winsorized_Tot_Exp,winsorized_Diphtheria,\n",
    "            winsorized_HIV,winsorized_GDP,winsorized_Population,winsorized_thinness_10_19_years,winsorized_thinness_5_9_years,\n",
    "            winsorized_Income_Comp_Of_Resources,winsorized_Schooling]\n",
    "\n",
    "for variable in winsorized_list:\n",
    "    q75, q25 = np.percentile(variable, [75 ,25])\n",
    "    iqr = q75 - q25\n",
    "\n",
    "    min_val = q25 - (iqr*1.5)\n",
    "    max_val = q75 + (iqr*1.5)\n",
    "    \n",
    "    print(\"Number of outliers after winsorization in  : {} \".format(len(np.where((variable > max_val) | (variable < min_val))[0])))"
   ]
  },
  {
   "cell_type": "markdown",
   "metadata": {},
   "source": [
    "Adding 18 new columns having no outliers to the dataframe"
   ]
  },
  {
   "cell_type": "code",
   "execution_count": null,
   "metadata": {},
   "outputs": [],
   "source": [
    "data['winsorized_Life_Expectancy'] = winsorized_Life_Expectancy\n",
    "data['winsorized_Adult_Mortality'] = winsorized_Adult_Mortality\n",
    "data['winsorized_Infant_Deaths'] = winsorized_Infant_Deaths\n",
    "data['winsorized_Alcohol'] = winsorized_Alcohol\n",
    "data['winsorized_Percentage_Exp'] = winsorized_Percentage_Exp\n",
    "data['winsorized_HepatitisB'] = winsorized_HepatitisB\n",
    "data['winsorized_Under_Five_Deaths'] = winsorized_Under_Five_Deaths\n",
    "data['winsorized_Polio'] = winsorized_Polio\n",
    "data['winsorized_Tot_Exp'] = winsorized_Tot_Exp\n",
    "data['winsorized_Diphtheria'] = winsorized_Diphtheria\n",
    "data['winsorized_HIV'] = winsorized_HIV\n",
    "data['winsorized_GDP'] = winsorized_GDP\n",
    "data['winsorized_Population'] = winsorized_Population\n",
    "data['winsorized_thinness_10_19_years'] = winsorized_thinness_10_19_years\n",
    "data['winsorized_thinness_5_9_years'] = winsorized_thinness_5_9_years\n",
    "data['winsorized_Income_Comp_Of_Resources'] = winsorized_Income_Comp_Of_Resources\n",
    "data['winsorized_Schooling'] = winsorized_Schooling\n",
    "data['winsorized_Measles'] = winsorized_Measles"
   ]
  },
  {
   "cell_type": "code",
   "execution_count": null,
   "metadata": {},
   "outputs": [],
   "source": [
    "data.shape #More 18 columns are added"
   ]
  },
  {
   "cell_type": "markdown",
   "metadata": {},
   "source": [
    "**Exploratory Data Analysis (EDA)**"
   ]
  },
  {
   "cell_type": "code",
   "execution_count": null,
   "metadata": {},
   "outputs": [],
   "source": [
    "data.columns"
   ]
  },
  {
   "cell_type": "code",
   "execution_count": null,
   "metadata": {},
   "outputs": [],
   "source": [
    "sns.distplot(data['Life expectancy'],kde=True)"
   ]
  },
  {
   "cell_type": "code",
   "execution_count": null,
   "metadata": {},
   "outputs": [],
   "source": [
    "disease_cols=data[['Life expectancy','Alcohol','Hepatitis B','Measles','BMI','Polio','Diphtheria','HIV/AIDS','Adult Mortality',\n",
    "                   'infant deaths','under-five deaths','thinness 10-19 years','thinness 5-9 years','Schooling',\n",
    "                   'percentage expenditure','Total expenditure','GDP','Population','Income composition of resources']]"
   ]
  },
  {
   "cell_type": "code",
   "execution_count": null,
   "metadata": {},
   "outputs": [],
   "source": [
    "disease_cols.corr()"
   ]
  },
  {
   "cell_type": "code",
   "execution_count": null,
   "metadata": {},
   "outputs": [],
   "source": [
    "sns.pairplot(disease_cols,diag_kind='kde')"
   ]
  },
  {
   "cell_type": "markdown",
   "metadata": {},
   "source": [
    "Hence all the features are significant to predict the target variable"
   ]
  },
  {
   "cell_type": "code",
   "execution_count": null,
   "metadata": {},
   "outputs": [],
   "source": [
    "col = ['Life expectancy','winsorized_Life_Expectancy','Adult Mortality','winsorized_Adult_Mortality','infant deaths',\n",
    "         'winsorized_Infant_Deaths','Alcohol','winsorized_Alcohol','percentage expenditure','winsorized_Percentage_Exp','Hepatitis B',\n",
    "         'winsorized_HepatitisB','under-five deaths','winsorized_Under_Five_Deaths','Polio','winsorized_Polio','Total expenditure',\n",
    "         'winsorized_Tot_Exp','Diphtheria','winsorized_Diphtheria','HIV/AIDS','winsorized_HIV','GDP','winsorized_GDP',\n",
    "         'Population','winsorized_Population','thinness 10-19 years','winsorized_thinness_10_19_years','thinness 5-9 years',\n",
    "         'winsorized_thinness_5_9_years','Income composition of resources','winsorized_Income_Comp_Of_Resources',\n",
    "         'Schooling','winsorized_Schooling','Measles','winsorized_Measles','GDP','winsorized_GDP']\n",
    "\n",
    "plt.figure(figsize=(15,75))\n",
    "\n",
    "for i in range(len(col)):\n",
    "    plt.subplot(19,2,i+1)\n",
    "    plt.hist(data[col[i]])\n",
    "    plt.title(col[i])\n",
    "\n",
    "plt.show()"
   ]
  },
  {
   "cell_type": "code",
   "execution_count": null,
   "metadata": {},
   "outputs": [],
   "source": [
    "data.describe(include= 'O')"
   ]
  },
  {
   "cell_type": "code",
   "execution_count": null,
   "metadata": {},
   "outputs": [],
   "source": [
    "plt.figure(figsize=(6,6))\n",
    "plt.bar(data.groupby('Status')['Status'].count().index,data.groupby('Status')['winsorized_Life_Expectancy'].mean())\n",
    "plt.ylabel(\"Avg Life_Expectancy\")\n",
    "plt.title(\"Life_Expectancy w.r.t Status\")\n",
    "plt.show()"
   ]
  },
  {
   "cell_type": "code",
   "execution_count": null,
   "metadata": {},
   "outputs": [],
   "source": [
    "le_country = data.groupby('Country')['winsorized_Life_Expectancy'].mean().sort_values(ascending=True)\n",
    "le_country.plot(kind='bar', figsize=(50,15), fontsize=25)\n",
    "plt.title(\"Life_Expectancy w.r.t Country\",fontsize=40)\n",
    "plt.xlabel(\"Country\",fontsize=35)\n",
    "plt.ylabel(\"Avg Life_Expectancy\",fontsize=35)\n",
    "plt.show()"
   ]
  },
  {
   "cell_type": "code",
   "execution_count": null,
   "metadata": {},
   "outputs": [],
   "source": [
    "le_country = data.groupby('Country')['winsorized_GDP'].mean().sort_values(ascending=True)\n",
    "le_country.plot(kind='bar', figsize=(50,15), fontsize=25)\n",
    "plt.title(\"Average GDP w.r.t Country\",fontsize=40)\n",
    "plt.xlabel(\"Country\",fontsize=35)\n",
    "plt.ylabel(\"Avg GDP\",fontsize=35)\n",
    "plt.show()"
   ]
  },
  {
   "cell_type": "code",
   "execution_count": null,
   "metadata": {},
   "outputs": [],
   "source": [
    "le_country = data.groupby('Country')['winsorized_Adult_Mortality'].mean().sort_values(ascending=True)\n",
    "le_country.plot(kind='bar', figsize=(50,15), fontsize=25)\n",
    "plt.title(\"Adult_Mortality w.r.t Country\",fontsize=40)\n",
    "plt.xlabel(\"Country\",fontsize=35)\n",
    "plt.ylabel(\"Avg Adult Mortality\",fontsize=35)\n",
    "plt.show()"
   ]
  },
  {
   "cell_type": "code",
   "execution_count": null,
   "metadata": {},
   "outputs": [],
   "source": [
    "le_country = data.groupby('Country')['winsorized_Alcohol'].mean().sort_values(ascending=True)\n",
    "le_country.plot(kind='bar', figsize=(50,15), fontsize=25)\n",
    "plt.title(\"Alcohol w.r.t Country\",fontsize=40)\n",
    "plt.xlabel(\"Country\",fontsize=35)\n",
    "plt.ylabel(\"Avg Alcohol Comsumption\",fontsize=35)\n",
    "plt.show()"
   ]
  },
  {
   "cell_type": "code",
   "execution_count": null,
   "metadata": {},
   "outputs": [],
   "source": [
    "le_country = data.groupby('Country')['winsorized_Diphtheria'].mean().sort_values(ascending=True)\n",
    "le_country.plot(kind='bar', figsize=(50,15), fontsize=25)\n",
    "plt.title(\"Diphtheria w.r.t Country\",fontsize=40)\n",
    "plt.xlabel(\"Country\",fontsize=35)\n",
    "plt.ylabel(\"Avg Diphtheria\",fontsize=35)\n",
    "plt.show()"
   ]
  },
  {
   "cell_type": "code",
   "execution_count": null,
   "metadata": {},
   "outputs": [],
   "source": [
    "le_country = data.groupby('Country')['winsorized_HepatitisB'].mean().sort_values(ascending=True)\n",
    "le_country.plot(kind='bar', figsize=(50,15), fontsize=25)\n",
    "plt.title(\"HepatitisB w.r.t Country\",fontsize=40)\n",
    "plt.xlabel(\"Country\",fontsize=35)\n",
    "plt.ylabel(\"Avg HepatitisB\",fontsize=35)\n",
    "plt.show()"
   ]
  },
  {
   "cell_type": "code",
   "execution_count": null,
   "metadata": {},
   "outputs": [],
   "source": [
    "le_country = data.groupby('Country')['winsorized_HIV'].mean().sort_values(ascending=True)\n",
    "le_country.plot(kind='bar', figsize=(50,15), fontsize=25)\n",
    "plt.title(\"HIV w.r.t Country\",fontsize=40)\n",
    "plt.xlabel(\"Country\",fontsize=35)\n",
    "plt.ylabel(\"Avg HIV cases\",fontsize=35)\n",
    "plt.show()"
   ]
  },
  {
   "cell_type": "code",
   "execution_count": null,
   "metadata": {},
   "outputs": [],
   "source": [
    "le_country = data.groupby('Country')['winsorized_Income_Comp_Of_Resources'].mean().sort_values(ascending=True)\n",
    "le_country.plot(kind='bar', figsize=(50,15), fontsize=25)\n",
    "plt.title(\"Income Composition of Resources w.r.t Country\",fontsize=40)\n",
    "plt.xlabel(\"Country\",fontsize=35)\n",
    "plt.ylabel(\"Avg income composition of resourses\",fontsize=35)\n",
    "plt.show()"
   ]
  },
  {
   "cell_type": "code",
   "execution_count": null,
   "metadata": {},
   "outputs": [],
   "source": [
    "le_country = data.groupby('Country')['winsorized_Infant_Deaths'].mean().sort_values(ascending=True)\n",
    "le_country.plot(kind='bar', figsize=(50,15), fontsize=25)\n",
    "plt.title(\"Infant Deaths w.r.t Country\",fontsize=40)\n",
    "plt.xlabel(\"Country\",fontsize=35)\n",
    "plt.ylabel(\"Avg Infant Deaths\",fontsize=35)\n",
    "plt.show()"
   ]
  },
  {
   "cell_type": "code",
   "execution_count": null,
   "metadata": {},
   "outputs": [],
   "source": [
    "le_country = data.groupby('Country')['winsorized_Measles'].mean().sort_values(ascending=True)\n",
    "le_country.plot(kind='bar', figsize=(50,15), fontsize=25)\n",
    "plt.title(\"Measles w.r.t Country\",fontsize=40)\n",
    "plt.xlabel(\"Country\",fontsize=35)\n",
    "plt.ylabel(\"Avg Measles cases\",fontsize=35)\n",
    "plt.show()"
   ]
  },
  {
   "cell_type": "code",
   "execution_count": null,
   "metadata": {},
   "outputs": [],
   "source": [
    "le_country = data.groupby('Country')['winsorized_Percentage_Exp'].mean().sort_values(ascending=True)\n",
    "le_country.plot(kind='bar', figsize=(50,15), fontsize=25)\n",
    "plt.title(\"Percentage Expenditure w.r.t Country\",fontsize=40)\n",
    "plt.xlabel(\"Country\",fontsize=35)\n",
    "plt.ylabel(\"Avg percentage expenditure\",fontsize=35)\n",
    "plt.show()"
   ]
  },
  {
   "cell_type": "code",
   "execution_count": null,
   "metadata": {},
   "outputs": [],
   "source": [
    "le_country = data.groupby('Country')['winsorized_Polio'].mean().sort_values(ascending=True)\n",
    "le_country.plot(kind='bar', figsize=(50,15), fontsize=25)\n",
    "plt.title(\"Polio w.r.t Country\",fontsize=40)\n",
    "plt.xlabel(\"Country\",fontsize=35)\n",
    "plt.ylabel(\"Avg Polio Cases\",fontsize=35)\n",
    "plt.show()"
   ]
  },
  {
   "cell_type": "code",
   "execution_count": null,
   "metadata": {},
   "outputs": [],
   "source": [
    "le_country = data.groupby('Country')['winsorized_Population'].mean().sort_values(ascending=True)\n",
    "le_country.plot(kind='bar', figsize=(50,15), fontsize=25)\n",
    "plt.title(\"Population w.r.t Country\",fontsize=40)\n",
    "plt.xlabel(\"Country\",fontsize=35)\n",
    "plt.ylabel(\"Avg Population\",fontsize=35)\n",
    "plt.show()"
   ]
  },
  {
   "cell_type": "code",
   "execution_count": null,
   "metadata": {},
   "outputs": [],
   "source": [
    "le_country = data.groupby('Country')['winsorized_Schooling'].mean().sort_values(ascending=True)\n",
    "le_country.plot(kind='bar', figsize=(50,15), fontsize=25)\n",
    "plt.title(\"Schooling w.r.t Country\",fontsize=40)\n",
    "plt.xlabel(\"Country\",fontsize=35)\n",
    "plt.ylabel(\"Avg Schooling\",fontsize=35)\n",
    "plt.show()"
   ]
  },
  {
   "cell_type": "code",
   "execution_count": null,
   "metadata": {},
   "outputs": [],
   "source": [
    "le_country = data.groupby('Country')['winsorized_thinness_10_19_years'].mean().sort_values(ascending=True)\n",
    "le_country.plot(kind='bar', figsize=(50,15), fontsize=25)\n",
    "plt.title(\" Thinness 10to19 years w.r.t Country\",fontsize=40)\n",
    "plt.xlabel(\"Country\",fontsize=35)\n",
    "plt.ylabel(\"Avg Thinness 10 to 19 Years\",fontsize=35)\n",
    "plt.show()"
   ]
  },
  {
   "cell_type": "code",
   "execution_count": null,
   "metadata": {},
   "outputs": [],
   "source": [
    "le_country = data.groupby('Country')['winsorized_thinness_5_9_years'].mean().sort_values(ascending=True)\n",
    "le_country.plot(kind='bar', figsize=(50,15), fontsize=25)\n",
    "plt.title(\"Thinness 5 to 9 years w.r.t Country\",fontsize=40)\n",
    "plt.xlabel(\"Country\",fontsize=35)\n",
    "plt.ylabel(\"Avg thinness 5 to 9 years \",fontsize=35)\n",
    "plt.show()"
   ]
  },
  {
   "cell_type": "code",
   "execution_count": null,
   "metadata": {},
   "outputs": [],
   "source": [
    "le_country = data.groupby('Country')['winsorized_Tot_Exp'].mean().sort_values(ascending=True)\n",
    "le_country.plot(kind='bar', figsize=(50,15), fontsize=25)\n",
    "plt.title(\" Total Expenditure w.r.t Country\",fontsize=40)\n",
    "plt.xlabel(\"Country\",fontsize=35)\n",
    "plt.ylabel(\"Avg Total Expenditure\",fontsize=35)\n",
    "plt.show()"
   ]
  },
  {
   "cell_type": "code",
   "execution_count": null,
   "metadata": {},
   "outputs": [],
   "source": [
    "le_country = data.groupby('Country')['winsorized_Under_Five_Deaths'].mean().sort_values(ascending=True)\n",
    "le_country.plot(kind='bar', figsize=(50,15), fontsize=25)\n",
    "plt.title(\" Under five Deaths w.r.t Country\",fontsize=40)\n",
    "plt.xlabel(\"Country\",fontsize=35)\n",
    "plt.ylabel(\"Avg under 5 deaths\",fontsize=35)\n",
    "plt.show()"
   ]
  },
  {
   "cell_type": "code",
   "execution_count": null,
   "metadata": {},
   "outputs": [],
   "source": [
    "plt.figure(figsize=(7,5))\n",
    "plt.bar(data.groupby('Year')['Year'].count().index,data.groupby('Year')['winsorized_Life_Expectancy'].mean())\n",
    "plt.xlabel(\"Year\",fontsize=12)\n",
    "plt.ylabel(\"Avg Life_Expectancy\",fontsize=12)\n",
    "plt.title(\"Life_Expectancy w.r.t Year\")\n",
    "plt.show()"
   ]
  },
  {
   "cell_type": "code",
   "execution_count": null,
   "metadata": {},
   "outputs": [],
   "source": [
    "cor_matrix=data.corr()\n",
    "print(cor_matrix['winsorized_Life_Expectancy'].sort_values(ascending=False))"
   ]
  },
  {
   "cell_type": "code",
   "execution_count": null,
   "metadata": {},
   "outputs": [],
   "source": [
    "import seaborn as sns\n",
    "from pandas.plotting import scatter_matrix\n",
    "attributes= ['winsorized_Life_Expectancy','winsorized_Income_Comp_Of_Resources','winsorized_Schooling'\n",
    ",'winsorized_Diphtheria','winsorized_Polio','winsorized_Adult_Mortality','winsorized_Alcohol','winsorized_Measles','winsorized_Infant_Deaths',\n",
    "            'winsorized_Percentage_Exp','winsorized_HepatitisB','winsorized_Under_Five_Deaths','winsorized_Tot_Exp',\n",
    "            'winsorized_HIV','winsorized_GDP','winsorized_Population','winsorized_thinness_10_19_years','winsorized_thinness_5_9_years']\n",
    "cormat=data[attributes].corr()\n",
    "plt.figure(figsize=(15,15))\n",
    "sns.heatmap(cormat, square=True, annot=True, linewidths=.5)\n",
    "plt.show()"
   ]
  },
  {
   "cell_type": "code",
   "execution_count": null,
   "metadata": {},
   "outputs": [],
   "source": [
    "plt.figure(figsize=(18,40))\n",
    "\n",
    "plt.subplot(6,3,1)\n",
    "plt.scatter(data[\"winsorized_Life_Expectancy\"], data[\"winsorized_Adult_Mortality\"])\n",
    "plt.title(\"LifeExpectancy vs AdultMortality\")\n",
    "\n",
    "plt.subplot(6,3,2)\n",
    "plt.scatter(data[\"winsorized_Life_Expectancy\"], data[\"winsorized_Infant_Deaths\"])\n",
    "plt.title(\"LifeExpectancy vs Infant_Deaths\")\n",
    "\n",
    "plt.subplot(6,3,3)\n",
    "plt.scatter(data[\"winsorized_Life_Expectancy\"], data[\"winsorized_Alcohol\"])\n",
    "plt.title(\"LifeExpectancy vs Alcohol\")\n",
    "\n",
    "plt.subplot(6,3,4)\n",
    "plt.scatter(data[\"winsorized_Life_Expectancy\"], data[\"winsorized_Percentage_Exp\"])\n",
    "plt.title(\"LifeExpectancy vs Percentage_Exp\")\n",
    "\n",
    "plt.subplot(6,3,5)\n",
    "plt.scatter(data[\"winsorized_Life_Expectancy\"], data[\"winsorized_HepatitisB\"])\n",
    "plt.title(\"LifeExpectancy vs HepatitisB\")\n",
    "\n",
    "plt.subplot(6,3,6)\n",
    "plt.scatter(data[\"winsorized_Life_Expectancy\"], data[\"winsorized_Under_Five_Deaths\"])\n",
    "plt.title(\"LifeExpectancy vs Under_Five_Deaths\")\n",
    "\n",
    "plt.subplot(6,3,7)\n",
    "plt.scatter(data[\"winsorized_Life_Expectancy\"], data[\"winsorized_Polio\"])\n",
    "plt.title(\"LifeExpectancy vs Polio\")\n",
    "\n",
    "plt.subplot(6,3,8)\n",
    "plt.scatter(data[\"winsorized_Life_Expectancy\"], data[\"winsorized_Tot_Exp\"])\n",
    "plt.title(\"LifeExpectancy vs Tot_Exp\")\n",
    "\n",
    "plt.subplot(6,3,9)\n",
    "plt.scatter(data[\"winsorized_Life_Expectancy\"], data[\"winsorized_Diphtheria\"])\n",
    "plt.title(\"LifeExpectancy vs Diphtheria\")\n",
    "\n",
    "plt.subplot(6,3,10)\n",
    "plt.scatter(data[\"winsorized_Life_Expectancy\"], data[\"winsorized_HIV\"])\n",
    "plt.title(\"LifeExpectancy vs HIV\")\n",
    "\n",
    "plt.subplot(6,3,11)\n",
    "plt.scatter(data[\"winsorized_Life_Expectancy\"], data[\"winsorized_GDP\"])\n",
    "plt.title(\"LifeExpectancy vs GDP\")\n",
    "\n",
    "plt.subplot(6,3,12)\n",
    "plt.scatter(data[\"winsorized_Life_Expectancy\"], data[\"winsorized_Population\"])\n",
    "plt.title(\"LifeExpectancy vs Population\")\n",
    "\n",
    "plt.subplot(6,3,13)\n",
    "plt.scatter(data[\"winsorized_Life_Expectancy\"], data[\"winsorized_thinness_10_19_years\"])\n",
    "plt.title(\"LifeExpectancy vs thinness_10to19_years\")\n",
    "\n",
    "plt.subplot(6,3,14)\n",
    "plt.scatter(data[\"winsorized_Life_Expectancy\"], data[\"winsorized_thinness_5_9_years\"])\n",
    "plt.title(\"LifeExpectancy vs thinness_5to9_years\")\n",
    "\n",
    "plt.subplot(6,3,15)\n",
    "plt.scatter(data[\"winsorized_Life_Expectancy\"], data[\"winsorized_Income_Comp_Of_Resources\"])\n",
    "plt.title(\"LifeExpectancy vs Income_Comp_Of_Resources\")\n",
    "\n",
    "plt.subplot(6,3,16)\n",
    "plt.scatter(data[\"winsorized_Life_Expectancy\"], data[\"winsorized_Schooling\"])\n",
    "plt.title(\"LifeExpectancy vs Schooling\")\n",
    "\n",
    "\n",
    "plt.show()"
   ]
  },
  {
   "cell_type": "code",
   "execution_count": null,
   "metadata": {},
   "outputs": [],
   "source": [
    "round(data[['Status','winsorized_Life_Expectancy']].groupby(['Status']).mean(),2)"
   ]
  },
  {
   "cell_type": "markdown",
   "metadata": {},
   "source": [
    "Since 'status' is a categorical feature, we have to find the correlation with Life expectancy"
   ]
  },
  {
   "cell_type": "code",
   "execution_count": null,
   "metadata": {},
   "outputs": [],
   "source": [
    "import scipy.stats as stats\n",
    "stats.ttest_ind(data.loc[data['Status']=='Developed','winsorized_Life_Expectancy'],data.loc[data['Status']=='Developing','winsorized_Life_Expectancy'])"
   ]
  },
  {
   "cell_type": "code",
   "execution_count": null,
   "metadata": {},
   "outputs": [],
   "source": [
    "data.columns"
   ]
  },
  {
   "cell_type": "markdown",
   "metadata": {},
   "source": [
    "**Now our data has no null values and no outliers**"
   ]
  },
  {
   "cell_type": "markdown",
   "metadata": {},
   "source": [
    "# Creating a new dataframe with refined data"
   ]
  },
  {
   "cell_type": "code",
   "execution_count": null,
   "metadata": {},
   "outputs": [],
   "source": [
    "new_data=pd.DataFrame(data=data,columns=['Country', 'Year', 'Status', \n",
    "        'BMI', 'winsorized_Adult_Mortality',\n",
    "       'winsorized_Infant_Deaths', 'winsorized_Alcohol',\n",
    "       'winsorized_Percentage_Exp', 'winsorized_HepatitisB',\n",
    "       'winsorized_Under_Five_Deaths', 'winsorized_Polio',\n",
    "       'winsorized_Tot_Exp', 'winsorized_Diphtheria', 'winsorized_HIV',\n",
    "       'winsorized_GDP', 'winsorized_Population',\n",
    "       'winsorized_thinness_10_19_years', 'winsorized_thinness_5_9_years',\n",
    "       'winsorized_Income_Comp_Of_Resources', 'winsorized_Schooling',\n",
    "       'winsorized_Measles',   \n",
    "       'winsorized_Life_Expectancy'])"
   ]
  },
  {
   "cell_type": "code",
   "execution_count": null,
   "metadata": {},
   "outputs": [],
   "source": [
    "new_data.shape"
   ]
  },
  {
   "cell_type": "code",
   "execution_count": null,
   "metadata": {},
   "outputs": [],
   "source": [
    "new_data.head()"
   ]
  },
  {
   "cell_type": "code",
   "execution_count": null,
   "metadata": {},
   "outputs": [],
   "source": [
    "new_data.rename(columns={  \n",
    "             'winsorized_Adult_Mortality':'Adult_Mortality',\n",
    "       'winsorized_Infant_Deaths' :'Infant_Deaths',\n",
    "       'winsorized_Alcohol':'Alcohol',\n",
    "       'winsorized_Percentage_Exp':'Percentage_Expenditure',\n",
    "       'winsorized_HepatitisB':'Hepatitis_B',\n",
    "       'winsorized_Under_Five_Deaths':'Under_Five_Deaths',\n",
    "       'winsorized_Polio':'Polio',\n",
    "       'winsorized_Tot_Exp':'Total_Expenditure',\n",
    "       'winsorized_Diphtheria':'Diphtheria',\n",
    "       'winsorized_HIV':'HIV/AIDS',\n",
    "       'winsorized_GDP':'GDP',\n",
    "       'winsorized_Population':'Population',\n",
    "       'winsorized_thinness_10_19_years':'Thinness_10_19_years',\n",
    "       'winsorized_thinness_5_9_years':'Thinness_5_9_years',\n",
    "       'winsorized_Income_Comp_Of_Resources':'Income_Composition_of_Resources',\n",
    "       'winsorized_Schooling':'Schooling',\n",
    "       'winsorized_Measles':'Measles',\n",
    "       'winsorized_Life_Expectancy':'Life_Expectancy' } ,inplace=True)"
   ]
  },
  {
   "cell_type": "code",
   "execution_count": null,
   "metadata": {},
   "outputs": [],
   "source": [
    "new_data.head()"
   ]
  },
  {
   "cell_type": "code",
   "execution_count": null,
   "metadata": {},
   "outputs": [],
   "source": [
    "new_data.columns"
   ]
  },
  {
   "cell_type": "markdown",
   "metadata": {},
   "source": [
    "**Separating the input features and label**"
   ]
  },
  {
   "cell_type": "code",
   "execution_count": null,
   "metadata": {},
   "outputs": [],
   "source": [
    "X = new_data.drop('Life_Expectancy', axis=1)\n",
    "Y = pd.DataFrame(data=new_data,columns=['Life_Expectancy'])"
   ]
  },
  {
   "cell_type": "code",
   "execution_count": null,
   "metadata": {},
   "outputs": [],
   "source": [
    "X.head()"
   ]
  },
  {
   "cell_type": "code",
   "execution_count": null,
   "metadata": {},
   "outputs": [],
   "source": [
    "Y.head()"
   ]
  },
  {
   "cell_type": "markdown",
   "metadata": {},
   "source": [
    "**Splitting the data into train set and test set**"
   ]
  },
  {
   "cell_type": "code",
   "execution_count": null,
   "metadata": {},
   "outputs": [],
   "source": [
    "X_train, X_test, Y_train, Y_test = train_test_split(X, Y, test_size = 0.2, random_state = 42)"
   ]
  },
  {
   "cell_type": "markdown",
   "metadata": {},
   "source": [
    "# Creating a pipeline"
   ]
  },
  {
   "cell_type": "code",
   "execution_count": null,
   "metadata": {},
   "outputs": [],
   "source": [
    "numeric_features = ['Year', 'BMI',\n",
    "       'Adult_Mortality', 'Infant_Deaths', 'Alcohol', 'Percentage_Expenditure',\n",
    "       'Hepatitis_B', 'Under_Five_Deaths', 'Polio', 'Total_Expenditure',\n",
    "       'Diphtheria', 'HIV/AIDS', 'GDP', 'Population', 'Thinness_10_19_years',\n",
    "       'Thinness_5_9_years', 'Income_Composition_of_Resources', 'Schooling',\n",
    "       'Measles']\n",
    "categorical_features = ['Country', 'Status']"
   ]
  },
  {
   "cell_type": "code",
   "execution_count": null,
   "metadata": {},
   "outputs": [],
   "source": [
    "from sklearn.pipeline import Pipeline\n",
    "from sklearn.preprocessing import OneHotEncoder\n",
    "\n",
    "categorical_transformer = Pipeline(steps=[\n",
    "    ('onehot', OneHotEncoder(handle_unknown='ignore')),\n",
    "])"
   ]
  },
  {
   "cell_type": "code",
   "execution_count": null,
   "metadata": {},
   "outputs": [],
   "source": [
    "from sklearn.impute import SimpleImputer\n",
    "from sklearn.preprocessing import StandardScaler\n",
    "\n",
    "numeric_transformer = Pipeline(steps=[\n",
    "    ('imputer', SimpleImputer(strategy='median'))\n",
    "   \n",
    "])"
   ]
  },
  {
   "cell_type": "code",
   "execution_count": null,
   "metadata": {},
   "outputs": [],
   "source": [
    "from sklearn.compose import ColumnTransformer\n",
    "\n",
    "preprocessor = ColumnTransformer(\n",
    "    transformers=[\n",
    "        ('cat', categorical_transformer, categorical_features),\n",
    "        ('num', numeric_transformer, numeric_features)\n",
    "    ]\n",
    ")"
   ]
  },
  {
   "cell_type": "markdown",
   "metadata": {},
   "source": [
    "# Finding best algorithm"
   ]
  },
  {
   "cell_type": "code",
   "execution_count": null,
   "metadata": {},
   "outputs": [],
   "source": [
    "models = OrderedDict([\n",
    "    ( \"Linear Regression\",       Pipeline([\n",
    "                                            ('preprocessor', preprocessor),\n",
    "                                            ('LRegressor', LinearRegression())])  ),\n",
    "    ( \"Decision Tree Regressor\", Pipeline([\n",
    "                                           ('preprocessor', preprocessor),\n",
    "                                            ('DTRegressor', DecisionTreeRegressor())])  ),\n",
    "    ( \"Random Forest Regressor\", Pipeline([\n",
    "                                           ('preprocessor', preprocessor),\n",
    "                                            ('RFRegressor', RandomForestRegressor())])  ),\n",
    "    \n",
    "])"
   ]
  },
  {
   "cell_type": "code",
   "execution_count": null,
   "metadata": {},
   "outputs": [],
   "source": [
    "scores = {}\n",
    "for (name, model) in models.items():\n",
    "  model.fit(X_train,Y_train)\n",
    "  scores[name] =r2_score(model.predict(X_test), Y_test)\n",
    "    \n",
    "scores = OrderedDict(sorted(scores.items()))\n",
    "scores"
   ]
  },
  {
   "cell_type": "markdown",
   "metadata": {},
   "source": [
    "**Hence Random forest regression is the most suitable algorithm for this dataset**"
   ]
  },
  {
   "cell_type": "markdown",
   "metadata": {},
   "source": [
    "# Random forest regression"
   ]
  },
  {
   "cell_type": "code",
   "execution_count": null,
   "metadata": {},
   "outputs": [],
   "source": [
    "RFRegressor = Pipeline([\n",
    "     ('preprocessor', preprocessor),\n",
    "     ('RFRegressor', RandomForestRegressor())\n",
    "])"
   ]
  },
  {
   "cell_type": "code",
   "execution_count": null,
   "metadata": {},
   "outputs": [],
   "source": [
    "RFRegressor.fit(X_train,Y_train)"
   ]
  },
  {
   "cell_type": "code",
   "execution_count": null,
   "metadata": {},
   "outputs": [],
   "source": [
    "predict= RFRegressor.predict(X_test)"
   ]
  },
  {
   "cell_type": "code",
   "execution_count": null,
   "metadata": {},
   "outputs": [],
   "source": [
    "r2_score(predict, Y_test)"
   ]
  },
  {
   "cell_type": "markdown",
   "metadata": {},
   "source": [
    "# Deploying model"
   ]
  },
  {
   "cell_type": "code",
   "execution_count": null,
   "metadata": {},
   "outputs": [],
   "source": [
    "!pip install watson-machine-learning-client"
   ]
  },
  {
   "cell_type": "code",
   "execution_count": null,
   "metadata": {},
   "outputs": [],
   "source": [
    "from watson_machine_learning_client import WatsonMachineLearningAPIClient"
   ]
  },
  {
   "cell_type": "code",
   "execution_count": null,
   "metadata": {},
   "outputs": [],
   "source": [
    "wml_credentials={\n",
    "  \"apikey\": \"ein0dLtA3GvhDOX6w0xbdM6A8niBiwsWcjvgP5nhlhCm\",\n",
    "  #\"iam_apikey_description\": \"Auto-generated for key e81d078e-21d5-4c12-9226-799ddc2287ab\",\n",
    "  #\"iam_apikey_name\": \"Service credentials-1\",\n",
    "  #\"iam_role_crn\": \"crn:v1:bluemix:public:iam::::serviceRole:Manager\",\n",
    "  #\"iam_serviceid_crn\": \"crn:v1:bluemix:public:iam-identity::a/cb901b1b6f5849fea6c631aa90ff44e7::serviceid:ServiceId-21c720f1-7f7c-4613-9342-9c501064ba11\",\n",
    "  \"instance_id\": \"bfcef6f2-d531-42d8-9977-4d790a2a145c\",\n",
    "  \"url\": \"https://eu-gb.ml.cloud.ibm.com\"\n",
    "}"
   ]
  },
  {
   "cell_type": "code",
   "execution_count": null,
   "metadata": {},
   "outputs": [],
   "source": [
    "client = WatsonMachineLearningAPIClient( wml_credentials )"
   ]
  },
  {
   "cell_type": "code",
   "execution_count": null,
   "metadata": {},
   "outputs": [],
   "source": [
    "model_props = {client.repository.ModelMetaNames.AUTHOR_NAME: \"ShreyanshShukla\", \n",
    "               client.repository.ModelMetaNames.AUTHOR_EMAIL: \"shreyanshshuklashukla@gmail.com\", \n",
    "               client.repository.ModelMetaNames.NAME: \"Life_Expectancy_Prediction_ML_SmartInternz\"}"
   ]
  },
  {
   "cell_type": "code",
   "execution_count": null,
   "metadata": {},
   "outputs": [],
   "source": [
    "model_artifact =client.repository.store_model(RFRegressor, meta_props=model_props)"
   ]
  },
  {
   "cell_type": "code",
   "execution_count": null,
   "metadata": {},
   "outputs": [],
   "source": [
    "published_model_uid = client.repository.get_model_uid(model_artifact)\n",
    "published_model_uid"
   ]
  },
  {
   "cell_type": "code",
   "execution_count": null,
   "metadata": {},
   "outputs": [],
   "source": [
    "deployment = client.deployments.create(published_model_uid, name=\"Life_Expectancy_Prediction_ML_SmartInternz\")\n",
    "scoring_endpoint = client.deployments.get_scoring_url(deployment)\n",
    "scoring_endpoint"
   ]
  }
 ],
 "metadata": {
  "kernelspec": {
   "display_name": "Python 3",
   "language": "python",
   "name": "python3"
  },
  "language_info": {
   "codemirror_mode": {
    "name": "ipython",
    "version": 3
   },
   "file_extension": ".py",
   "mimetype": "text/x-python",
   "name": "python",
   "nbconvert_exporter": "python",
   "pygments_lexer": "ipython3",
   "version": "3.7.6"
  }
 },
 "nbformat": 4,
 "nbformat_minor": 1
}
